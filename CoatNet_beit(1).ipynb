{
 "cells": [
  {
   "cell_type": "code",
   "execution_count": 1,
   "id": "8bc71b7c",
   "metadata": {},
   "outputs": [
    {
     "name": "stderr",
     "output_type": "stream",
     "text": [
      "C:\\Users\\HSSL77\\anaconda3\\envs\\tf_gpu_final\\lib\\site-packages\\tensorflow_addons\\utils\\ensure_tf_install.py:53: UserWarning: Tensorflow Addons supports using Python ops for all Tensorflow versions above or equal to 2.3.0 and strictly below 2.6.0 (nightly versions are not supported). \n",
      " The versions of TensorFlow you are currently using is 2.8.0 and is not supported. \n",
      "Some things might work, some things might not.\n",
      "If you were to encounter a bug, do not file an issue.\n",
      "If you want to make sure you're using a tested and supported configuration, either change the TensorFlow version or the TensorFlow Addons's version. \n",
      "You can find the compatibility matrix in TensorFlow Addon's readme:\n",
      "https://github.com/tensorflow/addons\n",
      "  warnings.warn(\n"
     ]
    },
    {
     "name": "stdout",
     "output_type": "stream",
     "text": [
      "Device mapping:\n",
      "/job:localhost/replica:0/task:0/device:GPU:0 -> device: 0, name: NVIDIA GeForce RTX 3060 Laptop GPU, pci bus id: 0000:01:00.0, compute capability: 8.6\n",
      "\n"
     ]
    }
   ],
   "source": [
    "import numpy as np\n",
    "import matplotlib.pyplot as plt\n",
    "import os\n",
    "import cv2\n",
    "from tensorflow import keras\n",
    "import seaborn as sns\n",
    "import tensorflow as tf\n",
    "import tensorflow_addons as tfa\n",
    "from tensorflow.keras.layers import Input, Dense, Conv2D, Activation, MaxPool2D, GlobalAveragePooling2D\n",
    "from tensorflow.keras.layers import BatchNormalization, Flatten, Reshape, Conv2DTranspose, LeakyReLU\n",
    "from tensorflow.keras.models import Model\n",
    "from tensorflow.keras.models import Model, Sequential\n",
    "from tensorflow.keras.layers import Dense, Flatten, Dropout\n",
    "from tensorflow.keras.preprocessing.image import ImageDataGenerator\n",
    "from tensorflow.keras.optimizers import Adam, RMSprop\n",
    "from sklearn.utils import compute_class_weight\n",
    "from sklearn.metrics import accuracy_score, classification_report, confusion_matrix\n",
    "\n",
    "np.random.seed(72)\n",
    "tf.random.set_seed(72)\n",
    "sess = tf.compat.v1.Session(config=tf.compat.v1.ConfigProto(log_device_placement=True))"
   ]
  },
  {
   "cell_type": "code",
   "execution_count": 2,
   "id": "4ddccd13",
   "metadata": {},
   "outputs": [],
   "source": [
    "def evaluate_(model, generator_test):\n",
    "    model.evaluate(generator_test)\n",
    "    \n",
    "    y_pred = model.predict(generator_test)\n",
    "    y_pred_classes = np.argmax(y_pred, axis=1)\n",
    "    y_true = generator_test.classes\n",
    "    class_labels = list(generator_test.class_indices.keys())\n",
    "\n",
    "    print(classification_report(y_true, y_pred_classes))\n",
    "    cm = confusion_matrix(y_true, y_pred_classes)\n",
    "    \n",
    "    # Plotting the confusion matrix\n",
    "    plt.figure(figsize=(8, 8))\n",
    "    sns.heatmap(cm, annot=True, fmt=\"d\", cmap=\"Blues\", xticklabels=class_labels, yticklabels=class_labels)\n",
    "    plt.show()"
   ]
  },
  {
   "cell_type": "code",
   "execution_count": 3,
   "id": "6b9cdf24",
   "metadata": {},
   "outputs": [
    {
     "name": "stdout",
     "output_type": "stream",
     "text": [
      "Found 7304 images belonging to 5 classes.\n",
      "Found 826 images belonging to 5 classes.\n",
      "{0: 0.5054671280276817, 1: 1.1058289174867524, 2: 0.7612298071912454, 3: 1.5264367816091955, 4: 6.731797235023041}\n"
     ]
    }
   ],
   "source": [
    "train_dir = r\"D:\\Personal\\knee\\data\\train\"\n",
    "test_dir = r\"D:\\Personal\\knee\\data\\val\"\n",
    "datagen_train = ImageDataGenerator(rescale=1./255,\n",
    "                                  width_shift_range=0.1,\n",
    "                                  height_shift_range=0.1,\n",
    "                                  horizontal_flip=True,\n",
    "                                  vertical_flip=False)\n",
    "\n",
    "\n",
    "datagen_test = ImageDataGenerator(rescale=1./255)\n",
    "\n",
    "\n",
    "batch_size = 8\n",
    "generator_train = datagen_train.flow_from_directory(directory=train_dir,\n",
    "                                                    target_size=(112, 112),\n",
    "                                                    batch_size=batch_size,\n",
    "                                                    shuffle=True)\n",
    "\n",
    "generator_test = datagen_test.flow_from_directory(directory=test_dir,\n",
    "                                                  target_size=(112, 112),\n",
    "                                                  batch_size=batch_size,\n",
    "                                                  shuffle=False)\n",
    "# Calculate class weights\n",
    "labels = generator_train.classes\n",
    "class_weights = compute_class_weight(class_weight=\"balanced\", classes=np.unique(labels), y=labels)\n",
    "class_weights = dict(zip(np.unique(labels), class_weights))\n",
    "print(class_weights)"
   ]
  },
  {
   "cell_type": "code",
   "execution_count": 4,
   "id": "bcf02c66",
   "metadata": {},
   "outputs": [
    {
     "name": "stdout",
     "output_type": "stream",
     "text": [
      ">>>> Load pretrained from: C:\\Users\\HSSL77\\.keras\\models\\coatnet0_160_imagenet.h5\n",
      "WARNING:tensorflow:Skipping loading weights for layer #102 (named stack_3_block_1_mhsa_pos_emb) due to mismatch in shape for weight stack_3_block_1_mhsa_pos_emb/positional_embedding:0. Weight expects shape (6, 169). Received saved weight with shape (6, 361)\n",
      "WARNING:tensorflow:Skipping loading weights for layer #128 (named stack_3_block_2_mhsa_pos_emb) due to mismatch in shape for weight stack_3_block_2_mhsa_pos_emb/positional_embedding:0. Weight expects shape (12, 169). Received saved weight with shape (12, 361)\n",
      "WARNING:tensorflow:Skipping loading weights for layer #152 (named stack_3_block_3_mhsa_pos_emb) due to mismatch in shape for weight stack_3_block_3_mhsa_pos_emb/positional_embedding:0. Weight expects shape (12, 169). Received saved weight with shape (12, 361)\n",
      "WARNING:tensorflow:Skipping loading weights for layer #176 (named stack_3_block_4_mhsa_pos_emb) due to mismatch in shape for weight stack_3_block_4_mhsa_pos_emb/positional_embedding:0. Weight expects shape (12, 169). Received saved weight with shape (12, 361)\n",
      "WARNING:tensorflow:Skipping loading weights for layer #200 (named stack_3_block_5_mhsa_pos_emb) due to mismatch in shape for weight stack_3_block_5_mhsa_pos_emb/positional_embedding:0. Weight expects shape (12, 169). Received saved weight with shape (12, 361)\n",
      "WARNING:tensorflow:Skipping loading weights for layer #225 (named stack_4_block_1_mhsa_pos_emb) due to mismatch in shape for weight stack_4_block_1_mhsa_pos_emb/positional_embedding:0. Weight expects shape (12, 49). Received saved weight with shape (12, 81)\n",
      "WARNING:tensorflow:Skipping loading weights for layer #251 (named stack_4_block_2_mhsa_pos_emb) due to mismatch in shape for weight stack_4_block_2_mhsa_pos_emb/positional_embedding:0. Weight expects shape (24, 49). Received saved weight with shape (24, 81)\n",
      ">>>> Reload mismatched weights: 160 -> (112, 112)\n",
      ">>>> Reload layer: stack_3_block_1_mhsa_pos_emb\n",
      ">>>> Reload layer: stack_3_block_2_mhsa_pos_emb\n",
      ">>>> Reload layer: stack_3_block_3_mhsa_pos_emb\n",
      ">>>> Reload layer: stack_3_block_4_mhsa_pos_emb\n",
      ">>>> Reload layer: stack_3_block_5_mhsa_pos_emb\n",
      ">>>> Reload layer: stack_4_block_1_mhsa_pos_emb\n",
      ">>>> Reload layer: stack_4_block_2_mhsa_pos_emb\n"
     ]
    }
   ],
   "source": [
    "from keras_cv_attention_models import coatnet\n",
    "mm = coatnet.CoAtNet0(input_shape=(112, 112, 3), pretrained=\"imagenet\")"
   ]
  },
  {
   "cell_type": "code",
   "execution_count": 5,
   "id": "23bd15ac",
   "metadata": {},
   "outputs": [],
   "source": [
    "# mm.summary()"
   ]
  },
  {
   "cell_type": "code",
   "execution_count": 6,
   "id": "0d7670f9",
   "metadata": {},
   "outputs": [
    {
     "data": {
      "text/plain": [
       "\"\\ntransfer_layer = mm.get_layer('avg_pool')\\nconv_model = Model(inputs=mm.input, outputs=transfer_layer.output)\\n\""
      ]
     },
     "execution_count": 6,
     "metadata": {},
     "output_type": "execute_result"
    }
   ],
   "source": [
    "\"\"\"\n",
    "transfer_layer = mm.get_layer('avg_pool')\n",
    "conv_model = Model(inputs=mm.input, outputs=transfer_layer.output)\n",
    "\"\"\""
   ]
  },
  {
   "cell_type": "code",
   "execution_count": 7,
   "id": "1ced8a20",
   "metadata": {},
   "outputs": [
    {
     "data": {
      "text/plain": [
       "\"\\n#for layer in conv_model.layers:\\n#    layer.trainable = False\\n    \\n# Start a new Keras Sequential model.\\nnew_model = Sequential()\\n\\n# Add the convolutional part of the VGG16 model from above.\\nnew_model.add(conv_model)\\n\\n\\n# Add the final layer for the actual classification.\\nnew_model.add(Dense(2, activation='softmax'))\\n\""
      ]
     },
     "execution_count": 7,
     "metadata": {},
     "output_type": "execute_result"
    }
   ],
   "source": [
    "\"\"\"\n",
    "#for layer in conv_model.layers:\n",
    "#    layer.trainable = False\n",
    "    \n",
    "# Start a new Keras Sequential model.\n",
    "new_model = Sequential()\n",
    "\n",
    "# Add the convolutional part of the VGG16 model from above.\n",
    "new_model.add(conv_model)\n",
    "\n",
    "\n",
    "# Add the final layer for the actual classification.\n",
    "new_model.add(Dense(2, activation='softmax'))\n",
    "\"\"\""
   ]
  },
  {
   "cell_type": "code",
   "execution_count": 5,
   "id": "b8823859",
   "metadata": {},
   "outputs": [
    {
     "name": "stdout",
     "output_type": "stream",
     "text": [
      ">>>> Load pretrained from: C:\\Users\\HSSL77\\.keras\\models\\beit_base_patch16_224_imagenet21k-ft1k.h5\n",
      "WARNING:tensorflow:Skipping loading weights for layer #16 (named block0_attn_pos_emb) due to mismatch in shape for weight block0_attn_pos_emb/positional_embedding:0. Weight expects shape (12, 172). Received saved weight with shape (12, 732)\n",
      "WARNING:tensorflow:Skipping loading weights for layer #44 (named block1_attn_pos_emb) due to mismatch in shape for weight block1_attn_pos_emb/positional_embedding:0. Weight expects shape (12, 172). Received saved weight with shape (12, 732)\n",
      "WARNING:tensorflow:Skipping loading weights for layer #72 (named block2_attn_pos_emb) due to mismatch in shape for weight block2_attn_pos_emb/positional_embedding:0. Weight expects shape (12, 172). Received saved weight with shape (12, 732)\n",
      "WARNING:tensorflow:Skipping loading weights for layer #100 (named block3_attn_pos_emb) due to mismatch in shape for weight block3_attn_pos_emb/positional_embedding:0. Weight expects shape (12, 172). Received saved weight with shape (12, 732)\n",
      "WARNING:tensorflow:Skipping loading weights for layer #128 (named block4_attn_pos_emb) due to mismatch in shape for weight block4_attn_pos_emb/positional_embedding:0. Weight expects shape (12, 172). Received saved weight with shape (12, 732)\n",
      "WARNING:tensorflow:Skipping loading weights for layer #156 (named block5_attn_pos_emb) due to mismatch in shape for weight block5_attn_pos_emb/positional_embedding:0. Weight expects shape (12, 172). Received saved weight with shape (12, 732)\n",
      "WARNING:tensorflow:Skipping loading weights for layer #184 (named block6_attn_pos_emb) due to mismatch in shape for weight block6_attn_pos_emb/positional_embedding:0. Weight expects shape (12, 172). Received saved weight with shape (12, 732)\n",
      "WARNING:tensorflow:Skipping loading weights for layer #212 (named block7_attn_pos_emb) due to mismatch in shape for weight block7_attn_pos_emb/positional_embedding:0. Weight expects shape (12, 172). Received saved weight with shape (12, 732)\n",
      "WARNING:tensorflow:Skipping loading weights for layer #240 (named block8_attn_pos_emb) due to mismatch in shape for weight block8_attn_pos_emb/positional_embedding:0. Weight expects shape (12, 172). Received saved weight with shape (12, 732)\n",
      "WARNING:tensorflow:Skipping loading weights for layer #268 (named block9_attn_pos_emb) due to mismatch in shape for weight block9_attn_pos_emb/positional_embedding:0. Weight expects shape (12, 172). Received saved weight with shape (12, 732)\n",
      "WARNING:tensorflow:Skipping loading weights for layer #296 (named block10_attn_pos_emb) due to mismatch in shape for weight block10_attn_pos_emb/positional_embedding:0. Weight expects shape (12, 172). Received saved weight with shape (12, 732)\n",
      "WARNING:tensorflow:Skipping loading weights for layer #324 (named block11_attn_pos_emb) due to mismatch in shape for weight block11_attn_pos_emb/positional_embedding:0. Weight expects shape (12, 172). Received saved weight with shape (12, 732)\n",
      ">>>> Reload mismatched weights: 224 -> (112, 112)\n",
      ">>>> Reload layer: block0_attn_pos_emb\n",
      ">>>> Reload layer: block1_attn_pos_emb\n",
      ">>>> Reload layer: block2_attn_pos_emb\n",
      ">>>> Reload layer: block3_attn_pos_emb\n",
      ">>>> Reload layer: block4_attn_pos_emb\n",
      ">>>> Reload layer: block5_attn_pos_emb\n",
      ">>>> Reload layer: block6_attn_pos_emb\n",
      ">>>> Reload layer: block7_attn_pos_emb\n",
      ">>>> Reload layer: block8_attn_pos_emb\n",
      ">>>> Reload layer: block9_attn_pos_emb\n",
      ">>>> Reload layer: block10_attn_pos_emb\n",
      ">>>> Reload layer: block11_attn_pos_emb\n"
     ]
    }
   ],
   "source": [
    "from keras_cv_attention_models import beit\n",
    "mm2 = beit.BeitBasePatch16(input_shape=(112, 112, 3))"
   ]
  },
  {
   "cell_type": "code",
   "execution_count": 9,
   "id": "cc40b957",
   "metadata": {},
   "outputs": [],
   "source": [
    "# mm2.summary()"
   ]
  },
  {
   "cell_type": "code",
   "execution_count": 6,
   "id": "9f6fb51c",
   "metadata": {},
   "outputs": [],
   "source": [
    "mm_last_layer = mm.get_layer('avg_pool').output\n",
    "#out = Dense(256, activation='relu', name='dense_1')(mm_last_layer)\n",
    "#out = Dense(11, activation='softmax', name='prediction1')(out)\n",
    "mm_custom = Model(mm.input, mm_last_layer)"
   ]
  },
  {
   "cell_type": "code",
   "execution_count": 7,
   "id": "084ca68e",
   "metadata": {},
   "outputs": [],
   "source": [
    "mm2_last_layer = mm2.get_layer('out_ln').output\n",
    "#out2 = Dense(256, activation='relu', name='dense_1')(mm2_last_layer)\n",
    "#out2 = Dense(11, activation='softmax', name='prediction1')(out2)\n",
    "mm2_custom = Model(mm2.input, mm2_last_layer)"
   ]
  },
  {
   "cell_type": "code",
   "execution_count": 9,
   "id": "8c8291ab",
   "metadata": {},
   "outputs": [
    {
     "name": "stdout",
     "output_type": "stream",
     "text": [
      "Model: \"model_2\"\n",
      "__________________________________________________________________________________________________\n",
      " Layer (type)                   Output Shape         Param #     Connected to                     \n",
      "==================================================================================================\n",
      " input_4 (InputLayer)           [(None, 112, 112, 3  0           []                               \n",
      "                                )]                                                                \n",
      "                                                                                                  \n",
      " model (Functional)             (None, 768)          22487658    ['input_4[0][0]']                \n",
      "                                                                                                  \n",
      " model_1 (Functional)           (None, 768)          85681344    ['input_4[0][0]']                \n",
      "                                                                                                  \n",
      " average_1 (Average)            (None, 768)          0           ['model[1][0]',                  \n",
      "                                                                  'model_1[1][0]']                \n",
      "                                                                                                  \n",
      "==================================================================================================\n",
      "Total params: 108,169,002\n",
      "Trainable params: 108,157,354\n",
      "Non-trainable params: 11,648\n",
      "__________________________________________________________________________________________________\n"
     ]
    }
   ],
   "source": [
    "from tensorflow.keras import layers\n",
    "inputs = keras.Input(shape=(112,112,3))\n",
    "outputs = layers.average([mm_custom(inputs), mm2_custom(inputs)])\n",
    "\n",
    "avg_ensemble_model = keras.Model(inputs=inputs, outputs=outputs)\n",
    "avg_ensemble_model.summary()"
   ]
  },
  {
   "cell_type": "code",
   "execution_count": 15,
   "id": "0521f65e",
   "metadata": {},
   "outputs": [
    {
     "name": "stdout",
     "output_type": "stream",
     "text": [
      "Model: \"model_4\"\n",
      "__________________________________________________________________________________________________\n",
      " Layer (type)                   Output Shape         Param #     Connected to                     \n",
      "==================================================================================================\n",
      " input_4 (InputLayer)           [(None, 112, 112, 3  0           []                               \n",
      "                                )]                                                                \n",
      "                                                                                                  \n",
      " model (Functional)             (None, 768)          22487658    ['input_4[0][0]']                \n",
      "                                                                                                  \n",
      " model_1 (Functional)           (None, 768)          85681344    ['input_4[0][0]']                \n",
      "                                                                                                  \n",
      " average_1 (Average)            (None, 768)          0           ['model[1][0]',                  \n",
      "                                                                  'model_1[1][0]']                \n",
      "                                                                                                  \n",
      " output_1 (Dense)               (None, 5)            3845        ['average_1[0][0]']              \n",
      "                                                                                                  \n",
      "==================================================================================================\n",
      "Total params: 108,172,847\n",
      "Trainable params: 108,161,199\n",
      "Non-trainable params: 11,648\n",
      "__________________________________________________________________________________________________\n"
     ]
    }
   ],
   "source": [
    "num_classes = 5\n",
    "avg_ensemble_model_last_layer = avg_ensemble_model.get_layer('average_1').output\n",
    "output_layer = Dense(num_classes, activation='softmax', name='output_1')(avg_ensemble_model_last_layer)\n",
    "final_model = Model(avg_ensemble_model.input, output_layer)\n",
    "\n",
    "final_model.summary()"
   ]
  },
  {
   "cell_type": "code",
   "execution_count": 16,
   "id": "3e615e13",
   "metadata": {},
   "outputs": [],
   "source": [
    "optimizer = Adam(lr=1e-5)\n",
    "loss = 'categorical_crossentropy'\n",
    "# metrics = ['categorical_accuracy']\n",
    "metrics = ['accuracy', 'categorical_accuracy', tf.keras.metrics.AUC(), tf.keras.metrics.Precision(), tf.keras.metrics.Recall(), \n",
    "           tf.keras.metrics.TruePositives(), tf.keras.metrics.TrueNegatives(), tf.keras.metrics.FalsePositives(), \n",
    "           tf.keras.metrics.FalseNegatives(), tfa.metrics.CohenKappa(num_classes = num_classes), \n",
    "           tfa.metrics.F1Score(num_classes = num_classes)]\n",
    "\n",
    "final_model.compile(optimizer=optimizer, loss=loss, metrics=metrics)"
   ]
  },
  {
   "cell_type": "code",
   "execution_count": 17,
   "id": "5aaa94a9",
   "metadata": {},
   "outputs": [],
   "source": [
    "from tensorflow.keras.callbacks import ModelCheckpoint, EarlyStopping, ReduceLROnPlateau\n",
    "lr = tf.keras.callbacks.ReduceLROnPlateau(monitor=\"val_loss\", factor=0.1,\n",
    "    patience=9, mode=\"max\", min_delta=0.0001, min_lr=0.00001, verbose=1)\n",
    "checkpoint = ModelCheckpoint(filepath='Best_DenseNet201.h5', save_best_only=True, monitor = 'val_accuracy', verbose=1)\n",
    "early_stopping = tf.keras.callbacks.EarlyStopping(monitor='val_loss', min_delta=0, patience=10, verbose=1, restore_best_weights=True)\n",
    "\n",
    "callbacks = [lr, checkpoint, early_stopping]"
   ]
  },
  {
   "cell_type": "code",
   "execution_count": 18,
   "id": "6332fc17",
   "metadata": {},
   "outputs": [
    {
     "name": "stdout",
     "output_type": "stream",
     "text": [
      "Epoch 1/35\n"
     ]
    },
    {
     "name": "stderr",
     "output_type": "stream",
     "text": [
      "C:\\Users\\HSSL77\\AppData\\Local\\Temp\\ipykernel_3760\\2955919758.py:6: UserWarning: `Model.fit_generator` is deprecated and will be removed in a future version. Please use `Model.fit`, which supports generators.\n",
      "  history = final_model.fit_generator(generator=generator_train,\n"
     ]
    },
    {
     "name": "stdout",
     "output_type": "stream",
     "text": [
      "913/913 [==============================] - ETA: 0s - loss: 1.4176 - accuracy: 0.3235 - categorical_accuracy: 0.3235 - auc_1: 0.6863 - precision_1: 0.4236 - recall_1: 0.0623 - true_positives_1: 455.0000 - true_negatives_1: 28597.0000 - false_positives_1: 619.0000 - false_negatives_1: 6849.0000 - cohen_kappa: 0.1170 - f1_score: 0.2849"
     ]
    },
    {
     "name": "stderr",
     "output_type": "stream",
     "text": [
      "C:\\Users\\HSSL77\\anaconda3\\envs\\tf_gpu_final\\lib\\site-packages\\keras\\engine\\training.py:2034: UserWarning: Metric CohenKappa implements a `reset_states()` method; rename it to `reset_state()` (without the final \"s\"). The name `reset_states()` has been deprecated to improve API consistency.\n",
      "  m.reset_state()\n",
      "C:\\Users\\HSSL77\\anaconda3\\envs\\tf_gpu_final\\lib\\site-packages\\keras\\engine\\training.py:2034: UserWarning: Metric F1Score implements a `reset_states()` method; rename it to `reset_state()` (without the final \"s\"). The name `reset_states()` has been deprecated to improve API consistency.\n",
      "  m.reset_state()\n"
     ]
    },
    {
     "name": "stdout",
     "output_type": "stream",
     "text": [
      "\n",
      "Epoch 1: val_accuracy improved from -inf to 0.33777, saving model to Best_DenseNet201.h5\n",
      "913/913 [==============================] - 236s 232ms/step - loss: 1.4176 - accuracy: 0.3235 - categorical_accuracy: 0.3235 - auc_1: 0.6863 - precision_1: 0.4236 - recall_1: 0.0623 - true_positives_1: 455.0000 - true_negatives_1: 28597.0000 - false_positives_1: 619.0000 - false_negatives_1: 6849.0000 - cohen_kappa: 0.1170 - f1_score: 0.2849 - val_loss: 1.3314 - val_accuracy: 0.3378 - val_categorical_accuracy: 0.3378 - val_auc_1: 0.7397 - val_precision_1: 0.4949 - val_recall_1: 0.0593 - val_true_positives_1: 49.0000 - val_true_negatives_1: 3254.0000 - val_false_positives_1: 50.0000 - val_false_negatives_1: 777.0000 - val_cohen_kappa: 0.1602 - val_f1_score: 0.3807 - lr: 1.0000e-05\n",
      "Epoch 2/35\n",
      "913/913 [==============================] - ETA: 0s - loss: 1.0211 - accuracy: 0.4826 - categorical_accuracy: 0.4826 - auc_1: 0.8216 - precision_1: 0.6149 - recall_1: 0.2301 - true_positives_1: 1681.0000 - true_negatives_1: 28163.0000 - false_positives_1: 1053.0000 - false_negatives_1: 5623.0000 - cohen_kappa: 0.3021 - f1_score: 0.4810\n",
      "Epoch 2: val_accuracy improved from 0.33777 to 0.47700, saving model to Best_DenseNet201.h5\n",
      "913/913 [==============================] - 224s 245ms/step - loss: 1.0211 - accuracy: 0.4826 - categorical_accuracy: 0.4826 - auc_1: 0.8216 - precision_1: 0.6149 - recall_1: 0.2301 - true_positives_1: 1681.0000 - true_negatives_1: 28163.0000 - false_positives_1: 1053.0000 - false_negatives_1: 5623.0000 - cohen_kappa: 0.3021 - f1_score: 0.4810 - val_loss: 1.2175 - val_accuracy: 0.4770 - val_categorical_accuracy: 0.4770 - val_auc_1: 0.8021 - val_precision_1: 0.5817 - val_recall_1: 0.2845 - val_true_positives_1: 235.0000 - val_true_negatives_1: 3135.0000 - val_false_positives_1: 169.0000 - val_false_negatives_1: 591.0000 - val_cohen_kappa: 0.2979 - val_f1_score: 0.4465 - lr: 1.0000e-05\n",
      "Epoch 3/35\n",
      "913/913 [==============================] - ETA: 0s - loss: 0.8829 - accuracy: 0.5363 - categorical_accuracy: 0.5363 - auc_1: 0.8548 - precision_1: 0.6653 - recall_1: 0.3405 - true_positives_1: 2487.0000 - true_negatives_1: 27965.0000 - false_positives_1: 1251.0000 - false_negatives_1: 4817.0000 - cohen_kappa: 0.3701 - f1_score: 0.5543\n",
      "Epoch 3: val_accuracy improved from 0.47700 to 0.53632, saving model to Best_DenseNet201.h5\n",
      "913/913 [==============================] - 269s 295ms/step - loss: 0.8829 - accuracy: 0.5363 - categorical_accuracy: 0.5363 - auc_1: 0.8548 - precision_1: 0.6653 - recall_1: 0.3405 - true_positives_1: 2487.0000 - true_negatives_1: 27965.0000 - false_positives_1: 1251.0000 - false_negatives_1: 4817.0000 - cohen_kappa: 0.3701 - f1_score: 0.5543 - val_loss: 1.0823 - val_accuracy: 0.5363 - val_categorical_accuracy: 0.5363 - val_auc_1: 0.8394 - val_precision_1: 0.6658 - val_recall_1: 0.3160 - val_true_positives_1: 261.0000 - val_true_negatives_1: 3173.0000 - val_false_positives_1: 131.0000 - val_false_negatives_1: 565.0000 - val_cohen_kappa: 0.3749 - val_f1_score: 0.5266 - lr: 1.0000e-05\n",
      "Epoch 4/35\n",
      "913/913 [==============================] - ETA: 0s - loss: 0.8150 - accuracy: 0.5648 - categorical_accuracy: 0.5648 - auc_1: 0.8731 - precision_1: 0.6857 - recall_1: 0.3951 - true_positives_1: 2886.0000 - true_negatives_1: 27893.0000 - false_positives_1: 1323.0000 - false_negatives_1: 4418.0000 - cohen_kappa: 0.4090 - f1_score: 0.5901\n",
      "Epoch 4: val_accuracy improved from 0.53632 to 0.57869, saving model to Best_DenseNet201.h5\n",
      "913/913 [==============================] - 274s 300ms/step - loss: 0.8150 - accuracy: 0.5648 - categorical_accuracy: 0.5648 - auc_1: 0.8731 - precision_1: 0.6857 - recall_1: 0.3951 - true_positives_1: 2886.0000 - true_negatives_1: 27893.0000 - false_positives_1: 1323.0000 - false_negatives_1: 4418.0000 - cohen_kappa: 0.4090 - f1_score: 0.5901 - val_loss: 0.9778 - val_accuracy: 0.5787 - val_categorical_accuracy: 0.5787 - val_auc_1: 0.8714 - val_precision_1: 0.6706 - val_recall_1: 0.4140 - val_true_positives_1: 342.0000 - val_true_negatives_1: 3136.0000 - val_false_positives_1: 168.0000 - val_false_negatives_1: 484.0000 - val_cohen_kappa: 0.4023 - val_f1_score: 0.5550 - lr: 1.0000e-05\n",
      "Epoch 5/35\n",
      "913/913 [==============================] - ETA: 0s - loss: 0.7869 - accuracy: 0.5785 - categorical_accuracy: 0.5785 - auc_1: 0.8803 - precision_1: 0.6883 - recall_1: 0.4236 - true_positives_1: 3094.0000 - true_negatives_1: 27815.0000 - false_positives_1: 1401.0000 - false_negatives_1: 4210.0000 - cohen_kappa: 0.4279 - f1_score: 0.6091\n",
      "Epoch 5: val_accuracy improved from 0.57869 to 0.59685, saving model to Best_DenseNet201.h5\n",
      "913/913 [==============================] - 274s 300ms/step - loss: 0.7869 - accuracy: 0.5785 - categorical_accuracy: 0.5785 - auc_1: 0.8803 - precision_1: 0.6883 - recall_1: 0.4236 - true_positives_1: 3094.0000 - true_negatives_1: 27815.0000 - false_positives_1: 1401.0000 - false_negatives_1: 4210.0000 - cohen_kappa: 0.4279 - f1_score: 0.6091 - val_loss: 0.9416 - val_accuracy: 0.5969 - val_categorical_accuracy: 0.5969 - val_auc_1: 0.8802 - val_precision_1: 0.7000 - val_recall_1: 0.4492 - val_true_positives_1: 371.0000 - val_true_negatives_1: 3145.0000 - val_false_positives_1: 159.0000 - val_false_negatives_1: 455.0000 - val_cohen_kappa: 0.4216 - val_f1_score: 0.5594 - lr: 1.0000e-05\n",
      "Epoch 6/35\n",
      "913/913 [==============================] - ETA: 0s - loss: 0.7522 - accuracy: 0.5897 - categorical_accuracy: 0.5897 - auc_1: 0.8881 - precision_1: 0.6963 - recall_1: 0.4425 - true_positives_1: 3232.0000 - true_negatives_1: 27806.0000 - false_positives_1: 1410.0000 - false_negatives_1: 4072.0000 - cohen_kappa: 0.4425 - f1_score: 0.6236\n",
      "Epoch 6: val_accuracy did not improve from 0.59685\n",
      "913/913 [==============================] - 272s 298ms/step - loss: 0.7522 - accuracy: 0.5897 - categorical_accuracy: 0.5897 - auc_1: 0.8881 - precision_1: 0.6963 - recall_1: 0.4425 - true_positives_1: 3232.0000 - true_negatives_1: 27806.0000 - false_positives_1: 1410.0000 - false_negatives_1: 4072.0000 - cohen_kappa: 0.4425 - f1_score: 0.6236 - val_loss: 1.1217 - val_accuracy: 0.4237 - val_categorical_accuracy: 0.4237 - val_auc_1: 0.8276 - val_precision_1: 0.4385 - val_recall_1: 0.3584 - val_true_positives_1: 296.0000 - val_true_negatives_1: 2925.0000 - val_false_positives_1: 379.0000 - val_false_negatives_1: 530.0000 - val_cohen_kappa: 0.2811 - val_f1_score: 0.4960 - lr: 1.0000e-05\n",
      "Epoch 7/35\n",
      "913/913 [==============================] - ETA: 0s - loss: 0.7147 - accuracy: 0.6116 - categorical_accuracy: 0.6116 - auc_1: 0.8975 - precision_1: 0.7166 - recall_1: 0.4744 - true_positives_1: 3465.0000 - true_negatives_1: 27846.0000 - false_positives_1: 1370.0000 - false_negatives_1: 3839.0000 - cohen_kappa: 0.4720 - f1_score: 0.6450\n",
      "Epoch 7: val_accuracy did not improve from 0.59685\n",
      "913/913 [==============================] - 265s 290ms/step - loss: 0.7147 - accuracy: 0.6116 - categorical_accuracy: 0.6116 - auc_1: 0.8975 - precision_1: 0.7166 - recall_1: 0.4744 - true_positives_1: 3465.0000 - true_negatives_1: 27846.0000 - false_positives_1: 1370.0000 - false_negatives_1: 3839.0000 - cohen_kappa: 0.4720 - f1_score: 0.6450 - val_loss: 0.9849 - val_accuracy: 0.5460 - val_categorical_accuracy: 0.5460 - val_auc_1: 0.8665 - val_precision_1: 0.6230 - val_recall_1: 0.4201 - val_true_positives_1: 347.0000 - val_true_negatives_1: 3094.0000 - val_false_positives_1: 210.0000 - val_false_negatives_1: 479.0000 - val_cohen_kappa: 0.3797 - val_f1_score: 0.5638 - lr: 1.0000e-05\n",
      "Epoch 8/35\n",
      "913/913 [==============================] - ETA: 0s - loss: 0.7060 - accuracy: 0.6224 - categorical_accuracy: 0.6224 - auc_1: 0.9012 - precision_1: 0.7223 - recall_1: 0.4843 - true_positives_1: 3537.0000 - true_negatives_1: 27856.0000 - false_positives_1: 1360.0000 - false_negatives_1: 3767.0000 - cohen_kappa: 0.4865 - f1_score: 0.6549\n",
      "Epoch 8: val_accuracy did not improve from 0.59685\n",
      "913/913 [==============================] - 267s 292ms/step - loss: 0.7060 - accuracy: 0.6224 - categorical_accuracy: 0.6224 - auc_1: 0.9012 - precision_1: 0.7223 - recall_1: 0.4843 - true_positives_1: 3537.0000 - true_negatives_1: 27856.0000 - false_positives_1: 1360.0000 - false_negatives_1: 3767.0000 - cohen_kappa: 0.4865 - f1_score: 0.6549 - val_loss: 1.0033 - val_accuracy: 0.5581 - val_categorical_accuracy: 0.5581 - val_auc_1: 0.8632 - val_precision_1: 0.6473 - val_recall_1: 0.3910 - val_true_positives_1: 323.0000 - val_true_negatives_1: 3128.0000 - val_false_positives_1: 176.0000 - val_false_negatives_1: 503.0000 - val_cohen_kappa: 0.4153 - val_f1_score: 0.5910 - lr: 1.0000e-05\n"
     ]
    },
    {
     "name": "stdout",
     "output_type": "stream",
     "text": [
      "Epoch 9/35\n",
      "913/913 [==============================] - ETA: 0s - loss: 0.6790 - accuracy: 0.6280 - categorical_accuracy: 0.6280 - auc_1: 0.9064 - precision_1: 0.7158 - recall_1: 0.5049 - true_positives_1: 3688.0000 - true_negatives_1: 27752.0000 - false_positives_1: 1464.0000 - false_negatives_1: 3616.0000 - cohen_kappa: 0.4944 - f1_score: 0.6628\n",
      "Epoch 9: val_accuracy did not improve from 0.59685\n",
      "913/913 [==============================] - 269s 295ms/step - loss: 0.6790 - accuracy: 0.6280 - categorical_accuracy: 0.6280 - auc_1: 0.9064 - precision_1: 0.7158 - recall_1: 0.5049 - true_positives_1: 3688.0000 - true_negatives_1: 27752.0000 - false_positives_1: 1464.0000 - false_negatives_1: 3616.0000 - cohen_kappa: 0.4944 - f1_score: 0.6628 - val_loss: 0.9734 - val_accuracy: 0.5630 - val_categorical_accuracy: 0.5630 - val_auc_1: 0.8765 - val_precision_1: 0.6194 - val_recall_1: 0.4867 - val_true_positives_1: 402.0000 - val_true_negatives_1: 3057.0000 - val_false_positives_1: 247.0000 - val_false_negatives_1: 424.0000 - val_cohen_kappa: 0.3907 - val_f1_score: 0.5680 - lr: 1.0000e-05\n",
      "Epoch 10/35\n",
      "913/913 [==============================] - ETA: 0s - loss: 0.6736 - accuracy: 0.6336 - categorical_accuracy: 0.6336 - auc_1: 0.9082 - precision_1: 0.7180 - recall_1: 0.5230 - true_positives_1: 3820.0000 - true_negatives_1: 27716.0000 - false_positives_1: 1500.0000 - false_negatives_1: 3484.0000 - cohen_kappa: 0.5028 - f1_score: 0.6724\n",
      "Epoch 10: val_accuracy did not improve from 0.59685\n",
      "913/913 [==============================] - 274s 300ms/step - loss: 0.6736 - accuracy: 0.6336 - categorical_accuracy: 0.6336 - auc_1: 0.9082 - precision_1: 0.7180 - recall_1: 0.5230 - true_positives_1: 3820.0000 - true_negatives_1: 27716.0000 - false_positives_1: 1500.0000 - false_negatives_1: 3484.0000 - cohen_kappa: 0.5028 - f1_score: 0.6724 - val_loss: 0.9669 - val_accuracy: 0.5533 - val_categorical_accuracy: 0.5533 - val_auc_1: 0.8729 - val_precision_1: 0.6620 - val_recall_1: 0.3983 - val_true_positives_1: 329.0000 - val_true_negatives_1: 3136.0000 - val_false_positives_1: 168.0000 - val_false_negatives_1: 497.0000 - val_cohen_kappa: 0.4073 - val_f1_score: 0.6041 - lr: 1.0000e-05\n",
      "Epoch 11/35\n",
      "913/913 [==============================] - ETA: 0s - loss: 0.6511 - accuracy: 0.6485 - categorical_accuracy: 0.6485 - auc_1: 0.9123 - precision_1: 0.7285 - recall_1: 0.5305 - true_positives_1: 3875.0000 - true_negatives_1: 27772.0000 - false_positives_1: 1444.0000 - false_negatives_1: 3429.0000 - cohen_kappa: 0.5222 - f1_score: 0.6878\n",
      "Epoch 11: val_accuracy did not improve from 0.59685\n",
      "913/913 [==============================] - 273s 299ms/step - loss: 0.6511 - accuracy: 0.6485 - categorical_accuracy: 0.6485 - auc_1: 0.9123 - precision_1: 0.7285 - recall_1: 0.5305 - true_positives_1: 3875.0000 - true_negatives_1: 27772.0000 - false_positives_1: 1444.0000 - false_negatives_1: 3429.0000 - cohen_kappa: 0.5222 - f1_score: 0.6878 - val_loss: 0.9460 - val_accuracy: 0.5823 - val_categorical_accuracy: 0.5823 - val_auc_1: 0.8798 - val_precision_1: 0.6525 - val_recall_1: 0.4455 - val_true_positives_1: 368.0000 - val_true_negatives_1: 3108.0000 - val_false_positives_1: 196.0000 - val_false_negatives_1: 458.0000 - val_cohen_kappa: 0.4403 - val_f1_score: 0.6222 - lr: 1.0000e-05\n",
      "Epoch 12/35\n",
      "913/913 [==============================] - ETA: 0s - loss: 0.6294 - accuracy: 0.6610 - categorical_accuracy: 0.6610 - auc_1: 0.9174 - precision_1: 0.7358 - recall_1: 0.5518 - true_positives_1: 4030.0000 - true_negatives_1: 27769.0000 - false_positives_1: 1447.0000 - false_negatives_1: 3274.0000 - cohen_kappa: 0.5394 - f1_score: 0.7013\n",
      "Epoch 12: val_accuracy improved from 0.59685 to 0.61017, saving model to Best_DenseNet201.h5\n",
      "913/913 [==============================] - 273s 299ms/step - loss: 0.6294 - accuracy: 0.6610 - categorical_accuracy: 0.6610 - auc_1: 0.9174 - precision_1: 0.7358 - recall_1: 0.5518 - true_positives_1: 4030.0000 - true_negatives_1: 27769.0000 - false_positives_1: 1447.0000 - false_negatives_1: 3274.0000 - cohen_kappa: 0.5394 - f1_score: 0.7013 - val_loss: 0.9073 - val_accuracy: 0.6102 - val_categorical_accuracy: 0.6102 - val_auc_1: 0.8919 - val_precision_1: 0.6795 - val_recall_1: 0.5109 - val_true_positives_1: 422.0000 - val_true_negatives_1: 3105.0000 - val_false_positives_1: 199.0000 - val_false_negatives_1: 404.0000 - val_cohen_kappa: 0.4498 - val_f1_score: 0.5832 - lr: 1.0000e-05\n",
      "Epoch 13/35\n",
      "913/913 [==============================] - ETA: 0s - loss: 0.6159 - accuracy: 0.6659 - categorical_accuracy: 0.6659 - auc_1: 0.9206 - precision_1: 0.7372 - recall_1: 0.5723 - true_positives_1: 4180.0000 - true_negatives_1: 27726.0000 - false_positives_1: 1490.0000 - false_negatives_1: 3124.0000 - cohen_kappa: 0.5458 - f1_score: 0.7058\n",
      "Epoch 13: val_accuracy did not improve from 0.61017\n",
      "913/913 [==============================] - 272s 298ms/step - loss: 0.6159 - accuracy: 0.6659 - categorical_accuracy: 0.6659 - auc_1: 0.9206 - precision_1: 0.7372 - recall_1: 0.5723 - true_positives_1: 4180.0000 - true_negatives_1: 27726.0000 - false_positives_1: 1490.0000 - false_negatives_1: 3124.0000 - cohen_kappa: 0.5458 - f1_score: 0.7058 - val_loss: 0.9393 - val_accuracy: 0.5763 - val_categorical_accuracy: 0.5763 - val_auc_1: 0.8818 - val_precision_1: 0.6367 - val_recall_1: 0.4794 - val_true_positives_1: 396.0000 - val_true_negatives_1: 3078.0000 - val_false_positives_1: 226.0000 - val_false_negatives_1: 430.0000 - val_cohen_kappa: 0.4291 - val_f1_score: 0.6249 - lr: 1.0000e-05\n",
      "Epoch 14/35\n",
      "913/913 [==============================] - ETA: 0s - loss: 0.5946 - accuracy: 0.6740 - categorical_accuracy: 0.6740 - auc_1: 0.9241 - precision_1: 0.7368 - recall_1: 0.5827 - true_positives_1: 4256.0000 - true_negatives_1: 27696.0000 - false_positives_1: 1520.0000 - false_negatives_1: 3048.0000 - cohen_kappa: 0.5573 - f1_score: 0.7200\n",
      "Epoch 14: val_accuracy did not improve from 0.61017\n",
      "913/913 [==============================] - 269s 295ms/step - loss: 0.5946 - accuracy: 0.6740 - categorical_accuracy: 0.6740 - auc_1: 0.9241 - precision_1: 0.7368 - recall_1: 0.5827 - true_positives_1: 4256.0000 - true_negatives_1: 27696.0000 - false_positives_1: 1520.0000 - false_negatives_1: 3048.0000 - cohen_kappa: 0.5573 - f1_score: 0.7200 - val_loss: 1.0045 - val_accuracy: 0.5654 - val_categorical_accuracy: 0.5654 - val_auc_1: 0.8691 - val_precision_1: 0.6334 - val_recall_1: 0.4225 - val_true_positives_1: 349.0000 - val_true_negatives_1: 3102.0000 - val_false_positives_1: 202.0000 - val_false_negatives_1: 477.0000 - val_cohen_kappa: 0.4251 - val_f1_score: 0.6171 - lr: 1.0000e-05\n",
      "Epoch 15/35\n",
      "913/913 [==============================] - ETA: 0s - loss: 0.5868 - accuracy: 0.6791 - categorical_accuracy: 0.6791 - auc_1: 0.9267 - precision_1: 0.7483 - recall_1: 0.5858 - true_positives_1: 4279.0000 - true_negatives_1: 27777.0000 - false_positives_1: 1439.0000 - false_negatives_1: 3025.0000 - cohen_kappa: 0.5647 - f1_score: 0.7240\n",
      "Epoch 15: val_accuracy did not improve from 0.61017\n",
      "913/913 [==============================] - 269s 294ms/step - loss: 0.5868 - accuracy: 0.6791 - categorical_accuracy: 0.6791 - auc_1: 0.9267 - precision_1: 0.7483 - recall_1: 0.5858 - true_positives_1: 4279.0000 - true_negatives_1: 27777.0000 - false_positives_1: 1439.0000 - false_negatives_1: 3025.0000 - cohen_kappa: 0.5647 - f1_score: 0.7240 - val_loss: 0.9614 - val_accuracy: 0.6029 - val_categorical_accuracy: 0.6029 - val_auc_1: 0.8874 - val_precision_1: 0.6592 - val_recall_1: 0.5339 - val_true_positives_1: 441.0000 - val_true_negatives_1: 3076.0000 - val_false_positives_1: 228.0000 - val_false_negatives_1: 385.0000 - val_cohen_kappa: 0.4602 - val_f1_score: 0.6351 - lr: 1.0000e-05\n",
      "Epoch 16/35\n",
      "913/913 [==============================] - ETA: 0s - loss: 0.5798 - accuracy: 0.6798 - categorical_accuracy: 0.6798 - auc_1: 0.9288 - precision_1: 0.7448 - recall_1: 0.5987 - true_positives_1: 4373.0000 - true_negatives_1: 27718.0000 - false_positives_1: 1498.0000 - false_negatives_1: 2931.0000 - cohen_kappa: 0.5656 - f1_score: 0.7202\n",
      "Epoch 16: val_accuracy did not improve from 0.61017\n",
      "913/913 [==============================] - 272s 298ms/step - loss: 0.5798 - accuracy: 0.6798 - categorical_accuracy: 0.6798 - auc_1: 0.9288 - precision_1: 0.7448 - recall_1: 0.5987 - true_positives_1: 4373.0000 - true_negatives_1: 27718.0000 - false_positives_1: 1498.0000 - false_negatives_1: 2931.0000 - cohen_kappa: 0.5656 - f1_score: 0.7202 - val_loss: 0.9492 - val_accuracy: 0.5714 - val_categorical_accuracy: 0.5714 - val_auc_1: 0.8830 - val_precision_1: 0.6228 - val_recall_1: 0.5097 - val_true_positives_1: 421.0000 - val_true_negatives_1: 3049.0000 - val_false_positives_1: 255.0000 - val_false_negatives_1: 405.0000 - val_cohen_kappa: 0.4273 - val_f1_score: 0.6252 - lr: 1.0000e-05\n"
     ]
    },
    {
     "name": "stdout",
     "output_type": "stream",
     "text": [
      "Epoch 17/35\n",
      "913/913 [==============================] - ETA: 0s - loss: 0.5642 - accuracy: 0.6863 - categorical_accuracy: 0.6863 - auc_1: 0.9310 - precision_1: 0.7467 - recall_1: 0.6023 - true_positives_1: 4399.0000 - true_negatives_1: 27724.0000 - false_positives_1: 1492.0000 - false_negatives_1: 2905.0000 - cohen_kappa: 0.5744 - f1_score: 0.7322\n",
      "Epoch 17: val_accuracy did not improve from 0.61017\n",
      "913/913 [==============================] - 271s 297ms/step - loss: 0.5642 - accuracy: 0.6863 - categorical_accuracy: 0.6863 - auc_1: 0.9310 - precision_1: 0.7467 - recall_1: 0.6023 - true_positives_1: 4399.0000 - true_negatives_1: 27724.0000 - false_positives_1: 1492.0000 - false_negatives_1: 2905.0000 - cohen_kappa: 0.5744 - f1_score: 0.7322 - val_loss: 0.9442 - val_accuracy: 0.5884 - val_categorical_accuracy: 0.5884 - val_auc_1: 0.8839 - val_precision_1: 0.6219 - val_recall_1: 0.4879 - val_true_positives_1: 403.0000 - val_true_negatives_1: 3059.0000 - val_false_positives_1: 245.0000 - val_false_negatives_1: 423.0000 - val_cohen_kappa: 0.4437 - val_f1_score: 0.6085 - lr: 1.0000e-05\n",
      "Epoch 18/35\n",
      "913/913 [==============================] - ETA: 0s - loss: 0.5484 - accuracy: 0.6977 - categorical_accuracy: 0.6977 - auc_1: 0.9347 - precision_1: 0.7568 - recall_1: 0.6228 - true_positives_1: 4549.0000 - true_negatives_1: 27754.0000 - false_positives_1: 1462.0000 - false_negatives_1: 2755.0000 - cohen_kappa: 0.5896 - f1_score: 0.7432\n",
      "Epoch 18: val_accuracy did not improve from 0.61017\n",
      "913/913 [==============================] - 271s 297ms/step - loss: 0.5484 - accuracy: 0.6977 - categorical_accuracy: 0.6977 - auc_1: 0.9347 - precision_1: 0.7568 - recall_1: 0.6228 - true_positives_1: 4549.0000 - true_negatives_1: 27754.0000 - false_positives_1: 1462.0000 - false_negatives_1: 2755.0000 - cohen_kappa: 0.5896 - f1_score: 0.7432 - val_loss: 0.9522 - val_accuracy: 0.5872 - val_categorical_accuracy: 0.5872 - val_auc_1: 0.8858 - val_precision_1: 0.6501 - val_recall_1: 0.5218 - val_true_positives_1: 431.0000 - val_true_negatives_1: 3072.0000 - val_false_positives_1: 232.0000 - val_false_negatives_1: 395.0000 - val_cohen_kappa: 0.4358 - val_f1_score: 0.6163 - lr: 1.0000e-05\n",
      "Epoch 19/35\n",
      "913/913 [==============================] - ETA: 0s - loss: 0.5252 - accuracy: 0.7048 - categorical_accuracy: 0.7048 - auc_1: 0.9386 - precision_1: 0.7617 - recall_1: 0.6329 - true_positives_1: 4623.0000 - true_negatives_1: 27770.0000 - false_positives_1: 1446.0000 - false_negatives_1: 2681.0000 - cohen_kappa: 0.5991 - f1_score: 0.7550\n",
      "Epoch 19: val_accuracy did not improve from 0.61017\n",
      "913/913 [==============================] - 270s 295ms/step - loss: 0.5252 - accuracy: 0.7048 - categorical_accuracy: 0.7048 - auc_1: 0.9386 - precision_1: 0.7617 - recall_1: 0.6329 - true_positives_1: 4623.0000 - true_negatives_1: 27770.0000 - false_positives_1: 1446.0000 - false_negatives_1: 2681.0000 - cohen_kappa: 0.5991 - f1_score: 0.7550 - val_loss: 0.9531 - val_accuracy: 0.5956 - val_categorical_accuracy: 0.5956 - val_auc_1: 0.8881 - val_precision_1: 0.6346 - val_recall_1: 0.5194 - val_true_positives_1: 429.0000 - val_true_negatives_1: 3057.0000 - val_false_positives_1: 247.0000 - val_false_negatives_1: 397.0000 - val_cohen_kappa: 0.4472 - val_f1_score: 0.6413 - lr: 1.0000e-05\n",
      "Epoch 20/35\n",
      "913/913 [==============================] - ETA: 0s - loss: 0.5205 - accuracy: 0.7156 - categorical_accuracy: 0.7156 - auc_1: 0.9414 - precision_1: 0.7673 - recall_1: 0.6498 - true_positives_1: 4746.0000 - true_negatives_1: 27777.0000 - false_positives_1: 1439.0000 - false_negatives_1: 2558.0000 - cohen_kappa: 0.6138 - f1_score: 0.7581\n",
      "Epoch 20: val_accuracy did not improve from 0.61017\n",
      "913/913 [==============================] - 271s 297ms/step - loss: 0.5205 - accuracy: 0.7156 - categorical_accuracy: 0.7156 - auc_1: 0.9414 - precision_1: 0.7673 - recall_1: 0.6498 - true_positives_1: 4746.0000 - true_negatives_1: 27777.0000 - false_positives_1: 1439.0000 - false_negatives_1: 2558.0000 - cohen_kappa: 0.6138 - f1_score: 0.7581 - val_loss: 0.9498 - val_accuracy: 0.5993 - val_categorical_accuracy: 0.5993 - val_auc_1: 0.8878 - val_precision_1: 0.6480 - val_recall_1: 0.5169 - val_true_positives_1: 427.0000 - val_true_negatives_1: 3072.0000 - val_false_positives_1: 232.0000 - val_false_negatives_1: 399.0000 - val_cohen_kappa: 0.4545 - val_f1_score: 0.6356 - lr: 1.0000e-05\n",
      "Epoch 21/35\n",
      "913/913 [==============================] - ETA: 0s - loss: 0.5075 - accuracy: 0.7184 - categorical_accuracy: 0.7184 - auc_1: 0.9436 - precision_1: 0.7670 - recall_1: 0.6532 - true_positives_1: 4771.0000 - true_negatives_1: 27767.0000 - false_positives_1: 1449.0000 - false_negatives_1: 2533.0000 - cohen_kappa: 0.6176 - f1_score: 0.7630\n",
      "Epoch 21: val_accuracy did not improve from 0.61017\n",
      "913/913 [==============================] - 273s 300ms/step - loss: 0.5075 - accuracy: 0.7184 - categorical_accuracy: 0.7184 - auc_1: 0.9436 - precision_1: 0.7670 - recall_1: 0.6532 - true_positives_1: 4771.0000 - true_negatives_1: 27767.0000 - false_positives_1: 1449.0000 - false_negatives_1: 2533.0000 - cohen_kappa: 0.6176 - f1_score: 0.7630 - val_loss: 0.9608 - val_accuracy: 0.6029 - val_categorical_accuracy: 0.6029 - val_auc_1: 0.8889 - val_precision_1: 0.6522 - val_recall_1: 0.5291 - val_true_positives_1: 437.0000 - val_true_negatives_1: 3071.0000 - val_false_positives_1: 233.0000 - val_false_negatives_1: 389.0000 - val_cohen_kappa: 0.4515 - val_f1_score: 0.6376 - lr: 1.0000e-05\n",
      "Epoch 22/35\n",
      "913/913 [==============================] - ETA: 0s - loss: 0.4851 - accuracy: 0.7301 - categorical_accuracy: 0.7301 - auc_1: 0.9472 - precision_1: 0.7761 - recall_1: 0.6710 - true_positives_1: 4901.0000 - true_negatives_1: 27802.0000 - false_positives_1: 1414.0000 - false_negatives_1: 2403.0000 - cohen_kappa: 0.6336 - f1_score: 0.7775\n",
      "Epoch 22: val_accuracy did not improve from 0.61017\n",
      "Restoring model weights from the end of the best epoch: 12.\n",
      "913/913 [==============================] - 277s 303ms/step - loss: 0.4851 - accuracy: 0.7301 - categorical_accuracy: 0.7301 - auc_1: 0.9472 - precision_1: 0.7761 - recall_1: 0.6710 - true_positives_1: 4901.0000 - true_negatives_1: 27802.0000 - false_positives_1: 1414.0000 - false_negatives_1: 2403.0000 - cohen_kappa: 0.6336 - f1_score: 0.7775 - val_loss: 0.9739 - val_accuracy: 0.6077 - val_categorical_accuracy: 0.6077 - val_auc_1: 0.8868 - val_precision_1: 0.6511 - val_recall_1: 0.5218 - val_true_positives_1: 431.0000 - val_true_negatives_1: 3073.0000 - val_false_positives_1: 231.0000 - val_false_negatives_1: 395.0000 - val_cohen_kappa: 0.4618 - val_f1_score: 0.6408 - lr: 1.0000e-05\n",
      "Epoch 22: early stopping\n"
     ]
    }
   ],
   "source": [
    "epochs = 35\n",
    "\n",
    "steps_per_epoch = generator_train.n / batch_size\n",
    "steps_test = generator_test.n / batch_size\n",
    "\n",
    "history = final_model.fit_generator(generator=generator_train,\n",
    "                                  epochs=epochs,\n",
    "                                  steps_per_epoch=steps_per_epoch,\n",
    "                                  validation_data=generator_test,\n",
    "                                  validation_steps=steps_test,\n",
    "                                   callbacks=callbacks, class_weight =class_weights)"
   ]
  },
  {
   "cell_type": "code",
   "execution_count": 19,
   "id": "c18d2240",
   "metadata": {},
   "outputs": [
    {
     "name": "stdout",
     "output_type": "stream",
     "text": [
      "104/104 [==============================] - 10s 96ms/step - loss: 0.9073 - accuracy: 0.6102 - categorical_accuracy: 0.6102 - auc_1: 0.8919 - precision_1: 0.6795 - recall_1: 0.5109 - true_positives_1: 422.0000 - true_negatives_1: 3105.0000 - false_positives_1: 199.0000 - false_negatives_1: 404.0000 - cohen_kappa: 0.4498 - f1_score: 0.5832\n",
      "              precision    recall  f1-score   support\n",
      "\n",
      "           0       0.66      0.79      0.72       328\n",
      "           1       0.28      0.11      0.16       153\n",
      "           2       0.57      0.63      0.60       212\n",
      "           3       0.70      0.67      0.69       106\n",
      "           4       0.64      0.93      0.76        27\n",
      "\n",
      "    accuracy                           0.61       826\n",
      "   macro avg       0.57      0.62      0.58       826\n",
      "weighted avg       0.57      0.61      0.58       826\n",
      "\n"
     ]
    },
    {
     "data": {
      "image/png": "[encoded data removed]",
      "text/plain": [
       "<Figure size 576x576 with 2 Axes>"
      ]
     },
     "metadata": {
      "needs_background": "light"
     },
     "output_type": "display_data"
    }
   ],
   "source": [
    "evaluate_(final_model, generator_test)"
   ]
  },
  {
   "cell_type": "code",
   "execution_count": 20,
   "id": "966c7bb0",
   "metadata": {},
   "outputs": [
    {
     "data": {
      "image/png": "[encoded data removed]",
      "text/plain": [
       "<Figure size 432x288 with 1 Axes>"
      ]
     },
     "metadata": {
      "needs_background": "light"
     },
     "output_type": "display_data"
    }
   ],
   "source": [
    "import matplotlib.pyplot as plt\n",
    "plt.plot(history.history['categorical_accuracy'])\n",
    "plt.plot(history.history['val_categorical_accuracy'])\n",
    "plt.title('Model Accuracy')\n",
    "plt.ylabel('accuracy')\n",
    "plt.xlabel('epoch')\n",
    "plt.legend(['train', 'test'], loc='upper left')\n",
    "plt.show()"
   ]
  },
  {
   "cell_type": "code",
   "execution_count": 52,
   "id": "62e6d059",
   "metadata": {},
   "outputs": [
    {
     "data": {
      "image/png": "[encoded data removed]",
      "text/plain": [
       "<Figure size 432x288 with 1 Axes>"
      ]
     },
     "metadata": {},
     "output_type": "display_data"
    }
   ],
   "source": [
    "import matplotlib.pyplot as plt\n",
    "plt.plot(history.history['loss'])\n",
    "plt.plot(history.history['val_loss'])\n",
    "plt.title('Model loss')\n",
    "plt.ylabel('loss')\n",
    "plt.xlabel('epoch')\n",
    "plt.legend(['train', 'test'], loc='upper left')\n",
    "plt.show()"
   ]
  },
  {
   "cell_type": "code",
   "execution_count": null,
   "id": "870abd86",
   "metadata": {},
   "outputs": [],
   "source": []
  }
 ],
 "metadata": {
  "kernelspec": {
   "display_name": "Python 3 (ipykernel)",
   "language": "python",
   "name": "python3"
  },
  "language_info": {
   "codemirror_mode": {
    "name": "ipython",
    "version": 3
   },
   "file_extension": ".py",
   "mimetype": "text/x-python",
   "name": "python",
   "nbconvert_exporter": "python",
   "pygments_lexer": "ipython3",
   "version": "3.9.7"
  }
 },
 "nbformat": 4,
 "nbformat_minor": 5
}
